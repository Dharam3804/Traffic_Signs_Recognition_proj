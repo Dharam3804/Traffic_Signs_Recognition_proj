{
 "cells": [
  {
   "cell_type": "code",
   "execution_count": 1,
   "metadata": {},
   "outputs": [],
   "source": [
    "import tensorflow as tf\n",
    "import numpy as np \n",
    "import pandas as pd \n",
    "import matplotlib.pyplot as plt\n",
    "from PIL import Image\n",
    "import os"
   ]
  },
  {
   "cell_type": "code",
   "execution_count": 2,
   "metadata": {},
   "outputs": [],
   "source": [
    "data = []\n",
    "labels = []\n",
    "classes = 43\n",
    "cur_path = os.getcwd()"
   ]
  },
  {
   "cell_type": "code",
   "execution_count": 3,
   "metadata": {},
   "outputs": [],
   "source": [
    "for i in range(classes):\n",
    "    path = os.path.join(cur_path,'train',str(i))\n",
    "    images = os.listdir(path)\n",
    "\n",
    "    for a in images:\n",
    "        try:\n",
    "            image = Image.open(path + '\\\\'+ a)\n",
    "            image = image.resize((30,30))\n",
    "            image = np.array(image)\n",
    "            data.append(image)\n",
    "            labels.append(i)\n",
    "        except:\n",
    "            print(\"Error loading image\")\n",
    "\n",
    "data = np.array(data)\n",
    "labels = np.array(labels)"
   ]
  },
  {
   "cell_type": "code",
   "execution_count": 4,
   "metadata": {},
   "outputs": [
    {
     "name": "stdout",
     "output_type": "stream",
     "text": [
      "(39209, 30, 30, 3) (39209,)\n"
     ]
    }
   ],
   "source": [
    "print(data.shape, labels.shape)"
   ]
  },
  {
   "cell_type": "code",
   "execution_count": 5,
   "metadata": {},
   "outputs": [],
   "source": [
    "from sklearn.model_selection import train_test_split\n",
    "X_train, X_test, y_train, y_test = train_test_split(data, labels, test_size=0.2, random_state=42)"
   ]
  },
  {
   "cell_type": "code",
   "execution_count": 6,
   "metadata": {},
   "outputs": [
    {
     "name": "stdout",
     "output_type": "stream",
     "text": [
      "(31367, 30, 30, 3) (7842, 30, 30, 3) (31367,) (7842,)\n"
     ]
    }
   ],
   "source": [
    "print(X_train.shape, X_test.shape, y_train.shape, y_test.shape)"
   ]
  },
  {
   "cell_type": "code",
   "execution_count": 7,
   "metadata": {},
   "outputs": [
    {
     "name": "stdout",
     "output_type": "stream",
     "text": [
      "(31367, 43) (7842, 43)\n"
     ]
    }
   ],
   "source": [
    "from keras.utils import to_categorical\n",
    "y_train = to_categorical(y_train, 43)\n",
    "y_test = to_categorical(y_test, 43)\n",
    "print(y_train.shape, y_test.shape)"
   ]
  },
  {
   "cell_type": "code",
   "execution_count": 8,
   "metadata": {},
   "outputs": [],
   "source": [
    "from keras.models import Sequential\n",
    "from keras.layers import Conv2D, MaxPool2D, Dense, Flatten, Dropout\n",
    "model = Sequential()\n",
    "model.add(Conv2D(filters=32, kernel_size=(5,5), activation='relu', input_shape=X_train.shape[1:]))\n",
    "model.add(Conv2D(filters=32, kernel_size=(5,5), activation='relu'))\n",
    "model.add(MaxPool2D(pool_size=(2, 2)))\n",
    "model.add(Dropout(rate=0.25))\n",
    "model.add(Conv2D(filters=64, kernel_size=(3, 3), activation='relu'))\n",
    "model.add(Conv2D(filters=64, kernel_size=(3, 3), activation='relu'))\n",
    "model.add(MaxPool2D(pool_size=(2, 2)))\n",
    "model.add(Dropout(rate=0.25))\n",
    "model.add(Flatten())\n",
    "model.add(Dense(256, activation='relu'))\n",
    "model.add(Dropout(rate=0.5))\n",
    "model.add(Dense(43, activation='softmax'))"
   ]
  },
  {
   "cell_type": "code",
   "execution_count": 9,
   "metadata": {},
   "outputs": [],
   "source": [
    "model.compile(loss='categorical_crossentropy', optimizer='adam', metrics=['accuracy'])"
   ]
  },
  {
   "cell_type": "code",
   "execution_count": 10,
   "metadata": {},
   "outputs": [
    {
     "name": "stdout",
     "output_type": "stream",
     "text": [
      "Epoch 1/25\n",
      "981/981 [==============================] - 75s 76ms/step - loss: 2.1679 - accuracy: 0.4580 - val_loss: 0.6641 - val_accuracy: 0.8066\n",
      "Epoch 2/25\n",
      "981/981 [==============================] - 76s 77ms/step - loss: 0.8162 - accuracy: 0.7535 - val_loss: 0.3195 - val_accuracy: 0.9137\n",
      "Epoch 3/25\n",
      "981/981 [==============================] - 77s 78ms/step - loss: 0.5325 - accuracy: 0.8403 - val_loss: 0.2152 - val_accuracy: 0.9441\n",
      "Epoch 4/25\n",
      "981/981 [==============================] - 75s 77ms/step - loss: 0.4181 - accuracy: 0.8772 - val_loss: 0.1394 - val_accuracy: 0.9591\n",
      "Epoch 5/25\n",
      "981/981 [==============================] - 80s 81ms/step - loss: 0.3608 - accuracy: 0.8960 - val_loss: 0.1180 - val_accuracy: 0.9670\n",
      "Epoch 6/25\n",
      "981/981 [==============================] - 74s 75ms/step - loss: 0.3207 - accuracy: 0.9078 - val_loss: 0.1241 - val_accuracy: 0.9624\n",
      "Epoch 7/25\n",
      "981/981 [==============================] - 73s 75ms/step - loss: 0.3027 - accuracy: 0.9149 - val_loss: 0.0943 - val_accuracy: 0.9714\n",
      "Epoch 8/25\n",
      "981/981 [==============================] - 72s 74ms/step - loss: 0.2938 - accuracy: 0.9178 - val_loss: 0.1276 - val_accuracy: 0.9654\n",
      "Epoch 9/25\n",
      "981/981 [==============================] - 73s 74ms/step - loss: 0.3022 - accuracy: 0.9167 - val_loss: 0.0845 - val_accuracy: 0.9782\n",
      "Epoch 10/25\n",
      "981/981 [==============================] - 73s 74ms/step - loss: 0.2948 - accuracy: 0.9207 - val_loss: 0.0758 - val_accuracy: 0.9779\n",
      "Epoch 11/25\n",
      "981/981 [==============================] - 73s 74ms/step - loss: 0.2744 - accuracy: 0.9270 - val_loss: 0.0892 - val_accuracy: 0.9733\n",
      "Epoch 12/25\n",
      "981/981 [==============================] - 73s 74ms/step - loss: 0.2795 - accuracy: 0.9262 - val_loss: 0.1051 - val_accuracy: 0.9700\n",
      "Epoch 13/25\n",
      "981/981 [==============================] - 72s 74ms/step - loss: 0.2866 - accuracy: 0.9236 - val_loss: 0.0977 - val_accuracy: 0.9726\n",
      "Epoch 14/25\n",
      "981/981 [==============================] - 73s 75ms/step - loss: 0.2822 - accuracy: 0.9271 - val_loss: 0.1083 - val_accuracy: 0.9699\n",
      "Epoch 15/25\n",
      "981/981 [==============================] - 73s 75ms/step - loss: 0.2805 - accuracy: 0.9281 - val_loss: 0.1540 - val_accuracy: 0.9587\n",
      "Epoch 16/25\n",
      "981/981 [==============================] - 73s 74ms/step - loss: 0.2708 - accuracy: 0.9279 - val_loss: 0.0639 - val_accuracy: 0.9819\n",
      "Epoch 17/25\n",
      "981/981 [==============================] - 73s 74ms/step - loss: 0.2520 - accuracy: 0.9359 - val_loss: 0.0756 - val_accuracy: 0.9792\n",
      "Epoch 18/25\n",
      "981/981 [==============================] - 73s 75ms/step - loss: 0.2735 - accuracy: 0.9302 - val_loss: 0.2033 - val_accuracy: 0.9439\n",
      "Epoch 19/25\n",
      "981/981 [==============================] - 78s 80ms/step - loss: 0.2647 - accuracy: 0.9322 - val_loss: 0.2487 - val_accuracy: 0.9323\n",
      "Epoch 20/25\n",
      "981/981 [==============================] - 75s 76ms/step - loss: 0.2573 - accuracy: 0.9338 - val_loss: 0.0701 - val_accuracy: 0.9805\n",
      "Epoch 21/25\n",
      "981/981 [==============================] - 77s 78ms/step - loss: 0.2653 - accuracy: 0.9325 - val_loss: 0.0910 - val_accuracy: 0.9746\n",
      "Epoch 22/25\n",
      "981/981 [==============================] - 84s 85ms/step - loss: 0.2702 - accuracy: 0.9339 - val_loss: 0.0777 - val_accuracy: 0.9783\n",
      "Epoch 23/25\n",
      "981/981 [==============================] - 86s 88ms/step - loss: 0.2589 - accuracy: 0.9347 - val_loss: 0.0777 - val_accuracy: 0.9765\n",
      "Epoch 24/25\n",
      "981/981 [==============================] - 90s 92ms/step - loss: 0.2689 - accuracy: 0.9338 - val_loss: 0.1050 - val_accuracy: 0.9694\n",
      "Epoch 25/25\n",
      "981/981 [==============================] - 82s 84ms/step - loss: 0.2520 - accuracy: 0.9380 - val_loss: 0.1493 - val_accuracy: 0.9591\n"
     ]
    }
   ],
   "source": [
    "epochs = 25\n",
    "history = model.fit(X_train, y_train, batch_size=32, epochs=epochs, validation_data=(X_test, y_test))"
   ]
  },
  {
   "cell_type": "code",
   "execution_count": 11,
   "metadata": {},
   "outputs": [
    {
     "data": {
      "image/png": "[encoded data removed]",
      "text/plain": [
       "<Figure size 432x288 with 1 Axes>"
      ]
     },
     "metadata": {
      "needs_background": "light"
     },
     "output_type": "display_data"
    }
   ],
   "source": [
    "plt.figure(0)\n",
    "plt.plot(history.history['accuracy'], label='training accuracy')\n",
    "plt.plot(history.history['val_accuracy'], label='val accuracy')\n",
    "plt.title('Accuracy')\n",
    "plt.xlabel('epochs')\n",
    "plt.ylabel('accuracy')\n",
    "plt.legend()\n",
    "plt.show()"
   ]
  },
  {
   "cell_type": "code",
   "execution_count": 12,
   "metadata": {},
   "outputs": [
    {
     "data": {
      "image/png": "[encoded data removed]",
      "text/plain": [
       "<Figure size 432x288 with 1 Axes>"
      ]
     },
     "metadata": {
      "needs_background": "light"
     },
     "output_type": "display_data"
    }
   ],
   "source": [
    "plt.figure(1)\n",
    "plt.plot(history.history['loss'], label='training loss')\n",
    "plt.plot(history.history['val_loss'], label='val loss')\n",
    "plt.title('Loss')\n",
    "plt.xlabel('epochs')\n",
    "plt.ylabel('loss')\n",
    "plt.legend()\n",
    "plt.show()"
   ]
  },
  {
   "cell_type": "code",
   "execution_count": 13,
   "metadata": {},
   "outputs": [
    {
     "name": "stdout",
     "output_type": "stream",
     "text": [
      "WARNING:tensorflow:From <ipython-input-13-ab38120fbab4>:16: Sequential.predict_classes (from tensorflow.python.keras.engine.sequential) is deprecated and will be removed after 2021-01-01.\n",
      "Instructions for updating:\n",
      "Please use instead:* `np.argmax(model.predict(x), axis=-1)`,   if your model does multi-class classification   (e.g. if it uses a `softmax` last-layer activation).* `(model.predict(x) > 0.5).astype(\"int32\")`,   if your model does binary classification   (e.g. if it uses a `sigmoid` last-layer activation).\n"
     ]
    }
   ],
   "source": [
    "from sklearn.metrics import accuracy_score\n",
    "y_test = pd.read_csv('Test.csv')\n",
    "\n",
    "labels = y_test[\"ClassId\"].values\n",
    "imgs = y_test[\"Path\"].values\n",
    "\n",
    "data=[]\n",
    "\n",
    "for img in imgs:\n",
    "    image = Image.open(img)\n",
    "    image = image.resize((30,30))\n",
    "    data.append(np.array(image))\n",
    "\n",
    "X_test=np.array(data)\n",
    "\n",
    "pred = model.predict_classes(X_test)\n"
   ]
  },
  {
   "cell_type": "code",
   "execution_count": 14,
   "metadata": {},
   "outputs": [
    {
     "name": "stdout",
     "output_type": "stream",
     "text": [
      "0.9223277909738717\n"
     ]
    }
   ],
   "source": [
    "print(accuracy_score(labels, pred))"
   ]
  },
  {
   "cell_type": "code",
   "execution_count": 15,
   "metadata": {},
   "outputs": [],
   "source": [
    "model.save(\"traffic_classifier.h5\")"
   ]
  }
 ],
 "metadata": {
  "kernelspec": {
   "display_name": "Python 3",
   "language": "python",
   "name": "python3"
  },
  "language_info": {
   "codemirror_mode": {
    "name": "ipython",
    "version": 3
   },
   "file_extension": ".py",
   "mimetype": "text/x-python",
   "name": "python",
   "nbconvert_exporter": "python",
   "pygments_lexer": "ipython3",
   "version": "3.7.3"
  }
 },
 "nbformat": 4,
 "nbformat_minor": 2
}
